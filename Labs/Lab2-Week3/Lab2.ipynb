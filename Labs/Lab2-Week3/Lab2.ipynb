{
  "cells": [
    {
      "metadata": {
        "lines_to_next_cell": 0
      },
      "cell_type": "markdown",
      "source": "# Programming in R\nProgramming can dramatically improve our ability to collect and analyse information about the world. In data science, the purpose of writing a program is to instruct a computer to carry out the steps of analysis. Computers cannot study the world on their own. People must describe precisely what steps the computer should take to collect and analyse data, and those steps are expressed through programs.\n\n## Expressions\nProgramming languages are much simpler than human languages. Nonetheless, there are some rules of grammar to learn in any language. We will use the R programming language. Learning the grammar rules is essential, and the same rules used in the most basic programs are also central to more sophisticated programs.\n\nPrograms are made up of expressions, which describe to the computer how to combine pieces of data. For example, a multiplication expression consists of a * symbol between two numerical expressions. Expressions, such as 3 * 4, are evaluated by the computer. The value (the result of evaluation) of the last expression in each cell is displayed below the cell."
    },
    {
      "metadata": {
        "lines_to_next_cell": 0,
        "trusted": true
      },
      "cell_type": "code",
      "source": "3*4",
      "execution_count": null,
      "outputs": []
    },
    {
      "metadata": {
        "lines_to_next_cell": 0
      },
      "cell_type": "markdown",
      "source": "and the exponentiation function consists of a ** symbol or ^."
    },
    {
      "metadata": {
        "lines_to_next_cell": 0,
        "trusted": true
      },
      "cell_type": "code",
      "source": "3**4",
      "execution_count": null,
      "outputs": []
    },
    {
      "metadata": {
        "lines_to_next_cell": 0
      },
      "cell_type": "markdown",
      "source": "or"
    },
    {
      "metadata": {
        "lines_to_next_cell": 0,
        "trusted": true
      },
      "cell_type": "code",
      "source": "3^4",
      "execution_count": null,
      "outputs": []
    },
    {
      "metadata": {
        "lines_to_next_cell": 0
      },
      "cell_type": "markdown",
      "source": "The symbols * and ** are called operators, and the values they combine are called operands.\n\n## Common Operators.\nData science often involves combining numerical values, and the set of operators in a programming language are designed to so that expressions can be used to express any arithmetic. In R, the following operators are essential.\n\n### Expression\n<ul>\n  <li>\n    Type: Addition<br>\n    Operator: +<br>\n    Example: 2 + 3<br>\n    Value: 5\n  </li>\n\n  <li>\nType: Subtraction<br>\nOperator: -<br>\nExample: 2 - 3<br>\nValue: -1\n  </li>\n\n  <li>\nType: Division<br>\nOperator: /<br>\nExample: 6/4<br>\nValue: 1.5\n  </li>\n\n  <li>\nType: Exponentiation<br>\nOperator: ^<br>\nExample: 2^0.5<br>\nValue: 1.4142\n  </li>\n\n\n</ul>\n\n\n\n\nR expressions obey the same familiar rules of precedence as in algebra: multiplication and division occur before addition and subtraction. Parentheses can be used to group together smaller expressions within a larger expression."
    },
    {
      "metadata": {
        "trusted": true
      },
      "cell_type": "code",
      "source": "1 + 2 * 3 * 4 * 5 / 6 ^ 3 + 7 + 8 - 9 + 10",
      "execution_count": null,
      "outputs": []
    },
    {
      "metadata": {},
      "cell_type": "markdown",
      "source": "and"
    },
    {
      "metadata": {
        "trusted": true
      },
      "cell_type": "code",
      "source": "1 + 2 * (3 * 4 * 5 / 6) ^ 3 + 7 + 8 - 9 + 10",
      "execution_count": null,
      "outputs": []
    },
    {
      "metadata": {
        "lines_to_next_cell": 0
      },
      "cell_type": "markdown",
      "source": "Learning to program involves trying out everything you learn in combination, investigating the behaviour of the computer. What happens if you divide by zero? What happens if you divide twice in a row? You don't always need to ask an expert (or the Internet); many of these details can be discovered by trying them out yourself.\n\n## Variables\nIn R we can assign values to variables. In an assignment, a variable is followed by =, which is followed by some expression. The value of the expression to the right of = is assigned to the variable. Once a variable has a value assigned to it, the value will be substituted for that variable in future expressions."
    },
    {
      "metadata": {
        "trusted": true
      },
      "cell_type": "code",
      "source": "a = 10\nb = 20\na + b",
      "execution_count": null,
      "outputs": []
    },
    {
      "metadata": {},
      "cell_type": "markdown",
      "source": "A previously assigned name variable be used in the expression to the right of =."
    },
    {
      "metadata": {
        "trusted": true
      },
      "cell_type": "code",
      "source": "quarter = 1/4\nhalf = 2 * quarter\nhalf",
      "execution_count": null,
      "outputs": []
    },
    {
      "metadata": {},
      "cell_type": "markdown",
      "source": "However, only the current value of an expression is assigned to a variable. If that value changes later, variables that were defined in terms of that value will not change automatically.\n"
    },
    {
      "metadata": {
        "trusted": true
      },
      "cell_type": "code",
      "source": "quarter = 5\nhalf",
      "execution_count": null,
      "outputs": []
    },
    {
      "metadata": {},
      "cell_type": "markdown",
      "source": "Variables must start with a letter, but can contain both letters and numbers. A variable cannot contain a space; instead, it is common to use an underscore character _ or a dot . to replace each space. The name of a variable is case sensitive and its are only as useful as you make them; it's up to the programmer to choose names that are easy to interpret. Typically, more meaningful names can be invented than a and b. For example, to describe the sales tax on a $5 purchase, the following names of variables clarify the meaning of the various quantities involved."
    },
    {
      "metadata": {
        "trusted": true
      },
      "cell_type": "code",
      "source": "purchase_price = 5\nstate_tax_rate = 0.075\ncity_tax_rate = 0\nsales_tax_rate = state_tax_rate + city_tax_rate\nsales_tax = purchase_price * sales_tax_rate\nsales_tax",
      "execution_count": null,
      "outputs": []
    },
    {
      "metadata": {},
      "cell_type": "markdown",
      "source": "# Example: Growth Rates\n\nThe relationship between two measurements of the same quantity taken at different times is often expressed as a growth rate. For example, a government employed 2,766,000 people in 2002 and 2,814,000 people in 2012. To compute a growth rate, we must first decide which value to treat as the initial amount. For values over time, the earlier value is a natural choice. Then, we divide the difference between the changed and initial amount by the initial amount."
    },
    {
      "metadata": {
        "trusted": true
      },
      "cell_type": "code",
      "source": "initial = 2766000\nchanged = 2814000\n(changed - initial) / initial",
      "execution_count": null,
      "outputs": []
    },
    {
      "metadata": {},
      "cell_type": "markdown",
      "source": "It is also typical to subtract one from the ratio of the two measurements, which yields the same value."
    },
    {
      "metadata": {
        "trusted": true
      },
      "cell_type": "code",
      "source": "(changed/initial) - 1",
      "execution_count": null,
      "outputs": []
    },
    {
      "metadata": {},
      "cell_type": "markdown",
      "source": "This value is the growth rate over 10 years. A useful property of growth rates is that they don't change even if the values are expressed in different units. So, for example, we can express the same relationship between thousands of people in 2002 and 2012."
    },
    {
      "metadata": {
        "trusted": true
      },
      "cell_type": "code",
      "source": "initial = 2766\nchanged = 2814\n(changed/initial) - 1",
      "execution_count": null,
      "outputs": []
    },
    {
      "metadata": {},
      "cell_type": "markdown",
      "source": "In 10 years, the number of employees the government has increased by only 1.74%. In that time, the total expenditures of the government increased from $2.37 trillion to $3.38 trillion in 2012."
    },
    {
      "metadata": {
        "trusted": true
      },
      "cell_type": "code",
      "source": "initial = 2.37\nchanged = 3.38\n(changed/initial) - 1",
      "execution_count": null,
      "outputs": []
    },
    {
      "metadata": {
        "lines_to_next_cell": 0
      },
      "cell_type": "markdown",
      "source": "A 42.6% increase in the federal budget is much larger than the 1.74% increase in federal employees. In fact, the number of federal employees has grown much more slowly than the population of the United States, which increased 9.21% in the same time period from 287.6 million people in 2002 to 314.1 million in 2012."
    },
    {
      "metadata": {
        "trusted": true
      },
      "cell_type": "code",
      "source": "initial = 287.6\nchanged = 314.1\n(changed/initial) - 1",
      "execution_count": null,
      "outputs": []
    },
    {
      "metadata": {
        "lines_to_next_cell": 0
      },
      "cell_type": "markdown",
      "source": "A growth rate can be negative, representing a decrease in some value. For example, the number of manufacturing jobs decreased from 15.3 million in 2002 to 11.9 million in 2012, a -22.2% growth rate."
    },
    {
      "metadata": {
        "trusted": true
      },
      "cell_type": "code",
      "source": "initial = 15.3\nchanged = 11.9\n(changed/initial) - 1",
      "execution_count": null,
      "outputs": []
    },
    {
      "metadata": {},
      "cell_type": "markdown",
      "source": "An annual growth rate is a growth rate of some quantity over a single year. An annual growth rate of 0.035, accumulated each year for 10 years, gives a much larger ten-year growth rate of 0.41 (or 41%)."
    },
    {
      "metadata": {
        "trusted": true
      },
      "cell_type": "code",
      "source": "1.035 * 1.035 * 1.035 * 1.035 * 1.035 * 1.035 * 1.035 * 1.035 * 1.035 * 1.035 - 1",
      "execution_count": null,
      "outputs": []
    },
    {
      "metadata": {},
      "cell_type": "markdown",
      "source": "This same computation can be expressed using variables and exponents."
    },
    {
      "metadata": {
        "trusted": true
      },
      "cell_type": "code",
      "source": "annual_growth_rate = 0.035\nten_year_growth_rate = (1 + annual_growth_rate) ^ 10 - 1\nten_year_growth_rate",
      "execution_count": null,
      "outputs": []
    },
    {
      "metadata": {},
      "cell_type": "markdown",
      "source": "Likewise, a ten-year growth rate can be used to compute an equivalent annual growth rate. Below, 't' is the number of years that have passed between measurements. The following computes the annual growth rate of expenditures over the last 10 years."
    },
    {
      "metadata": {
        "trusted": true
      },
      "cell_type": "code",
      "source": "initial = 2.37\nchanged = 3.38\nt = 10\n(changed/initial) ** (1/t) - 1",
      "execution_count": null,
      "outputs": []
    },
    {
      "metadata": {},
      "cell_type": "markdown",
      "source": "The total growth over 10 years is equivalent to a 3.6% increase each year.\n\nIn summary, a growth rate 'g' is used to describe the relative size of an initial amount and a changed amount after some amount of time 't'. To compute  changed, apply the growth rate 'g' repeatedly, 't' times using exponentiation."
    },
    {
      "metadata": {
        "trusted": true
      },
      "cell_type": "code",
      "source": "initial * (1 + g) ^ t",
      "execution_count": null,
      "outputs": []
    },
    {
      "metadata": {},
      "cell_type": "markdown",
      "source": "To compute 'g', raise the total growth to the power of 1/t and subtract one."
    },
    {
      "metadata": {
        "trusted": true
      },
      "cell_type": "code",
      "source": "(changed/initial) ^ (1/t) - 1",
      "execution_count": null,
      "outputs": []
    },
    {
      "metadata": {},
      "cell_type": "markdown",
      "source": "## Tables\n\nTables are a fundamental way of representing data sets. A table can be viewed in two ways:\n\n* a sequence of named columns that each describe a single attribute of all entries in a data set, or\n* a sequence of rows that each contain all information about a single individual in a data set.\n\nUsing the iris data set try to extract information from lines and columns."
    },
    {
      "metadata": {
        "lines_to_next_cell": 0,
        "trusted": true
      },
      "cell_type": "code",
      "source": "data(iris)\nhead(iris)",
      "execution_count": null,
      "outputs": []
    },
    {
      "metadata": {},
      "cell_type": "markdown",
      "source": "If you want to see just the first two rows of a table, you can use the table method show."
    },
    {
      "metadata": {
        "lines_to_next_cell": 0,
        "trusted": true
      },
      "cell_type": "code",
      "source": "iris\niris[1:2,]",
      "execution_count": null,
      "outputs": []
    },
    {
      "metadata": {},
      "cell_type": "markdown",
      "source": "If you want to see just the last column of this table, you use"
    },
    {
      "metadata": {
        "lines_to_next_cell": 0,
        "trusted": true
      },
      "cell_type": "code",
      "source": "iris[,5]",
      "execution_count": null,
      "outputs": []
    },
    {
      "metadata": {},
      "cell_type": "markdown",
      "source": "Or if you just want extract a unique information, for example, a information in the third line and fifth column, you use"
    },
    {
      "metadata": {
        "trusted": true
      },
      "cell_type": "code",
      "source": "iris[3,5]",
      "execution_count": null,
      "outputs": []
    },
    {
      "metadata": {
        "lines_to_next_cell": 0
      },
      "cell_type": "markdown",
      "source": "You can remove a column using the negative of its value,"
    },
    {
      "metadata": {
        "trusted": true
      },
      "cell_type": "code",
      "source": "iris[,-3]",
      "execution_count": null,
      "outputs": []
    },
    {
      "metadata": {
        "lines_to_next_cell": 0
      },
      "cell_type": "markdown",
      "source": "The code in the cell below creates a table consisting only of the rows corresponding to the species 'setosa'.\n``` {r}\niris[iris[,5] == \"setosa\",]\n```\n\n## Round your results\n\nIt is common to use 2, 3 or 4 decimal places to report numerical results. A good way to do that is to round the results. In R, we have the function 'round' to round numbers, variables, vectors. For instance, try the code below:"
    },
    {
      "metadata": {
        "lines_to_next_cell": 0,
        "trusted": true
      },
      "cell_type": "code",
      "source": "round(3.1234847452345, 3)",
      "execution_count": null,
      "outputs": []
    },
    {
      "metadata": {},
      "cell_type": "markdown",
      "source": "The number '3.1234847452345' was rounded in 3 decimal places. The usage of the function is:\nround(x, digits)\nwhere 'x' is the variable to be rounded, and digits are the number of decimal places that you want. Try the code below and see the results:"
    },
    {
      "metadata": {
        "trusted": true
      },
      "cell_type": "code",
      "source": "x <- seq(from=-2, to=2, by=0.01)\nround(x,1)\n\nround(sqrt(2),2)\nround(sqrt(2),3)\nround(c(-1.23456,12.3456,1.23456), 3)",
      "execution_count": null,
      "outputs": []
    },
    {
      "metadata": {},
      "cell_type": "markdown",
      "source": "You have done the basic commands in R. During the unit, we will explore more commands and details of the usage of the R and the jupyter notebook. For those who may be interested, there are other ways to use the software R, like R commander, RStudio, command line R, etc.\n\n## Assignment\n\nRelated to this Lab, you have an assignment to do on LMS. Once you have started the assignment, you will have one hour to finish it. You can do online, in any place with an internet connection. However, we strongly recommend you to do during your Lab session, using the computers available in the Lab, with the recommended system. If there is any problem with the system/computer, we can assist you. If you choose to do out of the Lab, or with your own computer, we will not be able to assist you if any problem occurs (software, internet connection, computer failure, etc.).\n\nAll results should be reported with two decimal digits. The assignment will be automatically marked by the system, in this case, if your answer is 2, you must write 2.00. If your answer is 2.1, you must write 2.10. If your answer is 2.344, you must round the number and write 2.34 (you can use the round function in R).\n\nThe cell below can be used to solve the questions of the assignment."
    },
    {
      "metadata": {
        "trusted": true
      },
      "cell_type": "code",
      "source": "",
      "execution_count": null,
      "outputs": []
    }
  ],
  "metadata": {
    "kernelspec": {
      "name": "r",
      "display_name": "R",
      "language": "R"
    },
    "language_info": {
      "mimetype": "text/x-r-source",
      "name": "R",
      "pygments_lexer": "r",
      "version": "3.5.3",
      "file_extension": ".r",
      "codemirror_mode": "r"
    }
  },
  "nbformat": 4,
  "nbformat_minor": 4
}