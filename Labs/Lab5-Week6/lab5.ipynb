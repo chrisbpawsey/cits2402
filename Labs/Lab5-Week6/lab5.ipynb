{
  "cells": [
    {
      "metadata": {},
      "cell_type": "markdown",
      "source": "# Outcomes Lab5\n\n\nIn this lab you should read through and run the code in the lab sheet and complete the lab assessment. By the end of this lab you should be able to use R to:\n\n\n* Run a linear regression in R and interpret the findings.\n* Create a residual plot.\n* Predict the outcome of a variable depending on levels of another variable.\n* log-transform data.\n\n\nBefore running the code in the following questions, we will load the necessary packages below: "
    },
    {
      "metadata": {
        "trusted": true
      },
      "cell_type": "code",
      "source": "library(ggplot2)\nlibrary(repr) \noptions(repr.plot.width=4, repr.plot.height=4, repr.plot.res = 120)\n",
      "execution_count": null,
      "outputs": []
    },
    {
      "metadata": {},
      "cell_type": "markdown",
      "source": "# Exercise 1: Linear Regression\n\n\nAt the end of last week's lab you were asked to create a scatterplot to visualise the relationship between the two variables 'Velocity' and 'Distance' from the galaxy dataframe. Here is what it looks like."
    },
    {
      "metadata": {
        "trusted": true
      },
      "cell_type": "code",
      "source": "galaxy_new <- read.csv(\"galaxy_new.csv\")\nggplot(galaxy_new, aes(x = Velocity, y = Distance)) + geom_point() ",
      "execution_count": null,
      "outputs": []
    },
    {
      "metadata": {},
      "cell_type": "markdown",
      "source": "As a reminder, the two variables describe the recessional velocity (measured in km per second) of a galaxy moving away from earth and the distance of that galaxy from earth (measured in Million lightyears). \n\nDerive the summary statistics for both variables via the `summary()` command. Use the empty code cell below.\n\n\n"
    },
    {
      "metadata": {
        "trusted": true
      },
      "cell_type": "code",
      "source": "",
      "execution_count": null,
      "outputs": []
    },
    {
      "metadata": {},
      "cell_type": "markdown",
      "source": "In last week's lectures you have learned about linear regression. You can now use the `geom_smooth()` command to visualise the regression line in your scatterplot like shown below. This regression line is the graph of the linear function $y = \\beta_0 + \\beta_1  x $. Remember from last week, that $y$ is hence a linear transformation of $x$. "
    },
    {
      "metadata": {
        "trusted": true
      },
      "cell_type": "code",
      "source": "ggplot(galaxy_new, aes(x = Velocity, y = Distance)) +\n geom_point() +\n geom_smooth(method = lm, se = FALSE)\n",
      "execution_count": null,
      "outputs": []
    },
    {
      "metadata": {},
      "cell_type": "markdown",
      "source": "In the equation from above the dependent variable $y$ depends on the independent variable $x$, while $\\beta_0$ and $\\beta_1$ are constants (called \"regression coefficients\"). The corresponding regression model is: $y_i = \\beta_0 + \\beta_1  x_i + \\epsilon_i$, where $\\epsilon_i$ denotes the individual vertical deviation from the regression line for the *i-th* observation. These deviations are called \"residuals\". We will now fit a linear regression model to our data, that is we will find the optimal regression coefficients using R. To do so, run the lines below."
    },
    {
      "metadata": {
        "trusted": true
      },
      "cell_type": "code",
      "source": "# runs the linear regression and stores the residuals\nlmRes <- lm(galaxy_new$Distance ~ galaxy_new$Velocity)\n# summarizes the results\nsummary(lmRes)",
      "execution_count": null,
      "outputs": []
    },
    {
      "metadata": {},
      "cell_type": "markdown",
      "source": "\nHow to interpret the summary of the results:\nThe first two lines shows what the command you ran was. This is followed by a five number summary of the residuals. Next, you will find the coefficients table, this is where you will find the estimate of $\\beta_0$ and $\\beta_1$. The residual standard error represents the average (vertical) distance between the observed values and the regression line measured in units of the dependent variable. You will also find the coefficient of determination $R^2$, which indicates how well the model approximates observations. You can ignore all other output for now.\n\n\nFrom the above results, answer the following questions: \n\n* What is the estimated regression line? **Write it out.** \n* From the output, what are $\\beta_0$, $\\beta_1$ and $R^2$?\n* For your data, does it appear that 'Distance' depends on 'Velocity'? How would interpret the regression coefficients?\n* Report the standard deviation of the residuals, note this is labelled *Residual Standard Error* in the regression output.\n"
    },
    {
      "metadata": {},
      "cell_type": "markdown",
      "source": "# Exercise 2: Residual Analysis\n\n\n\n"
    },
    {
      "metadata": {},
      "cell_type": "markdown",
      "source": "#### Plotting the Residuals \n\nAs explained above residuals are vertical deviations from the regression line. Very big residuals (positive as well as negative) hence mark outliers in the dataframe. Outliers are troublesome for the purpose of a regression analysis as they alter the regression line in their favor. Let us take a look at the residuals for the galaxy dataframe. To plot the residuals, you can use the command `plot(lmRes,1)`, where lmRes is the variable we created above. \n"
    },
    {
      "metadata": {
        "trusted": true
      },
      "cell_type": "code",
      "source": "lmRes[2]             # sohws all residuals\nplot(lmRes,1)       # plots all residuals against their fitted values (values on regression line)\n",
      "execution_count": null,
      "outputs": []
    },
    {
      "metadata": {},
      "cell_type": "markdown",
      "source": "In the residual plot above you will find that the most extreme residuals have their id number printed next to them. Bare this in mind, as we will remove them from the dataframe later. "
    },
    {
      "metadata": {},
      "cell_type": "markdown",
      "source": "**What do you notice about these residuals?**\n\n* Is there any residual pattern?\n* Are there any outliers? \n* what do you think the mean of the residuals might be (from the residual plot, no calculation needed)?"
    },
    {
      "metadata": {},
      "cell_type": "markdown",
      "source": "\n## Removing the outliers \n\nFind the three largest residuals (based on their absolute value) and remove the corresponding datasets from the dataframe using the code line below. \n"
    },
    {
      "metadata": {
        "trusted": true
      },
      "cell_type": "code",
      "source": "galaxy_Modified <- galaxy_new[-c(5, ...),] # has to be completed\n\n",
      "execution_count": null,
      "outputs": []
    },
    {
      "metadata": {},
      "cell_type": "markdown",
      "source": "To see what effect on the results these large residuals have we can re-run the regression without them. Make note of any differences in the results (ie. the values of $\\beta_0$ and $\\beta_1$)."
    },
    {
      "metadata": {
        "trusted": true
      },
      "cell_type": "code",
      "source": "# runs the linear regression and stores the residuals\nlmRes_corrected <- lm(galaxy_Modified$Distance ~ galaxy_Modified$Velocity)\n# summarizes the results\nsummary(lmRes_corrected)",
      "execution_count": null,
      "outputs": []
    },
    {
      "metadata": {},
      "cell_type": "markdown",
      "source": "Now, also run a residual analysis via residual plot as seen above"
    },
    {
      "metadata": {
        "trusted": true
      },
      "cell_type": "code",
      "source": "plot(lmRes_corrected,1)",
      "execution_count": null,
      "outputs": []
    },
    {
      "metadata": {},
      "cell_type": "markdown",
      "source": "* What do you notice about the outlier corrected residuals? \n* How do these plots compare to the plots of the original residuals?\n"
    },
    {
      "metadata": {},
      "cell_type": "markdown",
      "source": "# Exercise 3: Prediction\n\nFitting a regression model is an often used method to make predictions on the dependent variable based on different levels of the independent variable. You will now try to predict the number of dead larvae based on the concentration of an insecticide. But first, we will read in the 'larvae' dataframe which we have already used multiple times."
    },
    {
      "metadata": {
        "trusted": true
      },
      "cell_type": "code",
      "source": "larvae <- read.csv(\"larvae.csv\")\nhead(larvae)",
      "execution_count": null,
      "outputs": []
    },
    {
      "metadata": {},
      "cell_type": "markdown",
      "source": "This is the visualised relationship that we have already seen in last week's lab. Try to add a linear regression line to this visualisation. "
    },
    {
      "metadata": {
        "trusted": true
      },
      "cell_type": "code",
      "source": "ggplot(larvae, aes(x = Insecticide, y = NumberLarvae)) + geom_point() \nggplot(larvae, aes(x = Insecticide, y = NumberLarvae)) + geom_point() +  ...   # to be completed",
      "execution_count": null,
      "outputs": []
    },
    {
      "metadata": {},
      "cell_type": "markdown",
      "source": "Use the empty code cell to fit a linear regression model with 'Insecticide' as the independent variable and 'NumberLarvae' as the dependent variable.\n"
    },
    {
      "metadata": {
        "trusted": true
      },
      "cell_type": "code",
      "source": "lm2 <- lm()           # needs to be completed",
      "execution_count": null,
      "outputs": []
    },
    {
      "metadata": {},
      "cell_type": "markdown",
      "source": "Interpret your findings regarding the regression coefficients $\\beta_0$ and $\\beta_1$ as well as $R^2$ and the residual standard deviation.\n\nNow, repeat the residual analysis from above for this regression. "
    },
    {
      "metadata": {
        "trusted": true
      },
      "cell_type": "code",
      "source": "plot()          # needs to be completed",
      "execution_count": null,
      "outputs": []
    },
    {
      "metadata": {},
      "cell_type": "markdown",
      "source": "You will now use the estimated regression line to predict how many larvae will die if it an insecticide with a concentration of 5 units is used.\n\nEnter the regression coefficient $\\beta_0$ and $\\beta_1$ from your regression output above in the code below and then run the chunk of code. "
    },
    {
      "metadata": {
        "trusted": true
      },
      "cell_type": "code",
      "source": "# Enter intercept estimate: \nb0 <- \n# Enter b1 estimate: \nb1 <- \n\nconcentration <-   5                                  \nPredictedDeadLarvae <- b0 + b1*concentration\nPredictedDeadLarvae",
      "execution_count": null,
      "outputs": []
    },
    {
      "metadata": {},
      "cell_type": "markdown",
      "source": "# Exercise 4: Log Transformation in linear regression"
    },
    {
      "metadata": {},
      "cell_type": "markdown",
      "source": "**What did you notice about the residuals?** Take another look at the residual plot.\n\n* Is there any residual pattern?\n* Are there any outliers? \n* Does the variance of the residuals depend on the fitted values or is it rather constant?\n\nLast week you learned about log-transformation. One of its applications is to remove non-constant variance in data.\nYour last task for today is to perform a log-transformation on the 'NumberLarvae' variable and investigate the consequences if you then perform a linear regression with those transformed values instead of the original ones. Run the code below to execute the transformation."
    },
    {
      "metadata": {
        "trusted": true
      },
      "cell_type": "code",
      "source": "larvae$LogNumberLarvae <- log(larvae$NumberLarvae)\nhead(larvae)",
      "execution_count": null,
      "outputs": []
    },
    {
      "metadata": {},
      "cell_type": "markdown",
      "source": "Now, perform a linear regression analysis and a residual analysis using the code cells below."
    },
    {
      "metadata": {
        "trusted": true
      },
      "cell_type": "code",
      "source": "lm3 <- lm(...)      # linear model, needs to be completed\n\nsummary(lm3)",
      "execution_count": null,
      "outputs": []
    },
    {
      "metadata": {
        "trusted": true
      },
      "cell_type": "code",
      "source": "plot(...)           # residual analysis, needs to be completed",
      "execution_count": null,
      "outputs": []
    },
    {
      "metadata": {},
      "cell_type": "markdown",
      "source": "**What do you notice about the new residuals?**\n\n* Is there any residual pattern now?\n* Are there any outliers? \n* Is the variance across the fitted values similar or rather different?\n* What has changed from the previous residual plot? "
    },
    {
      "metadata": {},
      "cell_type": "markdown",
      "source": "Compare your findings for both models in regarding to the residuals. \n\n* In which model do the residuals appear to be more constant (from the residual plot)?"
    },
    {
      "metadata": {},
      "cell_type": "markdown",
      "source": "Well done for studying this lab sheet and good luck for your assignment! Please remember to round your solutions to **3 decimal places** in your assignment (when available you will be informed)."
    },
    {
      "metadata": {
        "trusted": true
      },
      "cell_type": "code",
      "source": "",
      "execution_count": null,
      "outputs": []
    },
    {
      "metadata": {
        "trusted": true
      },
      "cell_type": "code",
      "source": "",
      "execution_count": null,
      "outputs": []
    }
  ],
  "metadata": {
    "kernelspec": {
      "name": "r",
      "display_name": "R",
      "language": "R"
    },
    "language_info": {
      "mimetype": "text/x-r-source",
      "name": "R",
      "pygments_lexer": "r",
      "version": "3.5.3",
      "file_extension": ".r",
      "codemirror_mode": "r"
    }
  },
  "nbformat": 4,
  "nbformat_minor": 4
}