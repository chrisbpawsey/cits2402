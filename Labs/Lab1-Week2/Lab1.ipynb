{
 "cells": [
  {
   "cell_type": "markdown",
   "metadata": {
    "lines_to_next_cell": 0
   },
   "source": [
    "\n",
    "# Using R\n",
    "## Introduction\n",
    "\n",
    "In this lab we will learn how to:\n",
    "\n",
    " * Create variables\n",
    " * Use basic arithmatic\n",
    " * Import 'csv' data files\n",
    " * Create basic data visualizations\n",
    "\n",
    "## Creating Variables in R\n",
    "\n",
    "A variable is values that can be saved within the workspace. At the simplest level, a variable consists of a variable name and variable values. Once a variable is created it will appear in the environment window (the third orange box).\n",
    "\n",
    "In R you can create variables using either '<-' or '=' symbol.\n",
    "\n",
    "Below is an example, which creates a variable called 'x' equaling the sum of 4 and 5 and a variable called 'y' equaling the product of 4 and 5.\n",
    "\n",
    "To run the following code block, click on it and then press ctrl+enter."
   ]
  },
  {
   "cell_type": "code",
   "execution_count": null,
   "metadata": {},
   "outputs": [],
   "source": [
    "x <- 4 + 5 # Creating the x value\n",
    "y = 4 * 5  # Creating the y value\n",
    "# Printing the value\n",
    "cat(\"The value of x is: \",x, \"\\n\") # '\\n' is the same as pressing enter to go to the next line\n",
    "cat(\"The value of y is: \",y, \"\\n\")"
   ]
  },
  {
   "cell_type": "markdown",
   "metadata": {},
   "source": [
    "Above you should see the printed values of x and y, where x is the addition of 4 and 5 and y is the multiplication of 4 and 5.\n",
    "\n",
    "In R you can also create vectors, below are two common ways of manually creating vectors. The first command (setting the variable x) allows you to \"store\" a vector of numbers on the variable x. The second command creates a sequence of numbers that starts from 0 and ends at 10 at increments of 1.\n",
    "\n",
    "Try editing the code to change the y sequence to increment by 0.1 from 0 to 5, to check you can see the print statements within the code."
   ]
  },
  {
   "cell_type": "code",
   "execution_count": null,
   "metadata": {},
   "outputs": [],
   "source": [
    "# Creates a list of numbers\n",
    "x <- c(1,5,10,20,40)\n",
    "# Creates a list of numbers from 0 to 10 by increasing the value of 1\n",
    "y <- seq(0,10,1)\n",
    "# Printing the value\n",
    "cat(\"The value of x is: \",x, \"\\n\")\n",
    "cat(\"The value of y is: \",y, \"\\n\")"
   ]
  },
  {
   "cell_type": "markdown",
   "metadata": {},
   "source": [
    "To select certain values in a list you can use square brackets and the index of the value inside the square brackets. For example, x[1] would select the first value in x and x[-1] would select everything but the first value."
   ]
  },
  {
   "cell_type": "code",
   "execution_count": null,
   "metadata": {},
   "outputs": [],
   "source": [
    "### Try printing the third value of x\n",
    "\n",
    "### Try printing the fifth value of y\n"
   ]
  },
  {
   "cell_type": "markdown",
   "metadata": {},
   "source": [
    "## Basic Arithmetic in R\n",
    "\n",
    "The basic arithmatic operations are also included below, take careful note of how the multiplication of the vectors are calculated."
   ]
  },
  {
   "cell_type": "code",
   "execution_count": null,
   "metadata": {
    "lines_to_next_cell": 0
   },
   "outputs": [],
   "source": [
    "3 + 5.5 ## Addition\n",
    "3 - 5.5 ## Subtraction\n",
    "3 * 5.5 ## Multiplication\n",
    "3 / 5.5 ## Division\n",
    "x*5\n",
    "y+10\n",
    "x+y"
   ]
  },
  {
   "cell_type": "markdown",
   "metadata": {},
   "source": [
    "The last line has the warning message 'longer object length is not a multiple of shorter object length', this means that the x is not a factor of the y variable.\n",
    "\n",
    "Can you work out how R has produced the sum of x and y if they are not of the same length?\n",
    "\n",
    "### Exercise\n",
    "\n",
    "***\n",
    "\n",
    "Below create 3 variables:\n",
    "\n",
    "  * a variable called 'g' that is equal to a sequence of numbers from 10 to 20.\n",
    "  * a variable called 'h' that is equal to the product of 3 and 25.\n",
    "  * a variable called 'i' that is set to the string \"Potato\".\n",
    "\n",
    "To check use the 'cat' function to print the variable name and the values that the variables hold."
   ]
  },
  {
   "cell_type": "code",
   "execution_count": null,
   "metadata": {},
   "outputs": [],
   "source": [
    "## Enter the answer\n"
   ]
  },
  {
   "cell_type": "markdown",
   "metadata": {},
   "source": [
    "## Basic Math Functions in R\n",
    "\n",
    "Above we looked at basic aritmetic operations in R, now we will look at the basic math functions you can also use in R. Below is a list of basic math functions you can use in R:\n",
    "\n",
    "* *log(x)*: Natural log of x\n",
    "* *exp(x)*: Exponential of x\n",
    "* *max(x)*: Largest element\n",
    "* *min(x)*: Smallest element\n",
    "* *sum(x)*: Sum all values in x\n",
    "* *mean(x)*: Find the mean of x\n",
    "* *median(x)*: Find the median of x\n",
    "* *round(x,n)*: Round x to n decimal places\n",
    "* *length(x)*: Number of values in x\n",
    "\n",
    "Using the list of values in variable 'z' find:\n",
    "\n",
    "* The log of the third element\n",
    "* Maximum of z\n",
    "* Mean of z\n",
    "* Median of z\n",
    "* Exponent of all elements"
   ]
  },
  {
   "cell_type": "code",
   "execution_count": null,
   "metadata": {
    "lines_to_next_cell": 0
   },
   "outputs": [],
   "source": [
    "z <- c(6.0780998 ,8.8926461 , 2.3485093 , 2.8511061 , 5.7849268 , 0.3145299,  1.2683729, 8.4636561 , 8.9633093 , 8.4354148,  9.0497666 , 5.9046839 , 4.1272612 ,-4.7378608 , -1.3372997 , 2.9143154 , 9.0774442 , 7.1303078,  9.9144950 , 10.1626416)\n",
    "\n",
    "## Calculate the log of the third value\n",
    "\n",
    "## Maximum of z\n",
    "\n",
    "## Mean of z\n",
    "\n",
    "## Median of z\n",
    "\n",
    "## Exponent of all elements\n"
   ]
  },
  {
   "cell_type": "markdown",
   "metadata": {},
   "source": []
  },
  {
   "cell_type": "markdown",
   "metadata": {},
   "source": [
    "## Reading in csv (data) files\n",
    "\n",
    "It is very common to want to read in data from a different file on the computer for example a .csv (comma-separated values) file. To do this you can use the 'read.csv' command. Make sure that this notebook is saved in the same location as the data file 'perth_mean_max_temp.csv'."
   ]
  },
  {
   "cell_type": "code",
   "execution_count": null,
   "metadata": {},
   "outputs": [],
   "source": [
    "temp <- read.csv(\"perth_mean_max_temp.csv\")"
   ]
  },
  {
   "cell_type": "markdown",
   "metadata": {
    "lines_to_next_cell": 0
   },
   "source": [
    "Now to see what is in the data file we will use the head function to print the few observations of temp."
   ]
  },
  {
   "cell_type": "code",
   "execution_count": null,
   "metadata": {},
   "outputs": [],
   "source": [
    "head(temp)"
   ]
  },
  {
   "cell_type": "markdown",
   "metadata": {
    "lines_to_next_cell": 0
   },
   "source": [
    "The '$' symbol can be used to print one variable from the temp data frame in R:"
   ]
  },
  {
   "cell_type": "code",
   "execution_count": null,
   "metadata": {
    "lines_to_next_cell": 0
   },
   "outputs": [],
   "source": [
    "temp$temp[1:10] #Only printing the first 10 values"
   ]
  },
  {
   "cell_type": "markdown",
   "metadata": {
    "lines_to_next_cell": 0
   },
   "source": [
    "Can you change the above statement to print the first 20 values of the month variable.\n",
    "\n",
    "Below we will explore some basic plots of the data type, what is the data type of each of the variables?\n",
    "\n",
    "Firstly, we will look at a histogram of the temperature values. To create this histogram we will be using the package 'ggplot2', which will have to be loaded into the workspace. "
   ]
  },
  {
   "cell_type": "code",
   "execution_count": null,
   "metadata": {},
   "outputs": [],
   "source": [
    "library(ggplot2)"
   ]
  },
  {
   "cell_type": "markdown",
   "metadata": {},
   "source": [
    "Using the ggplot function and geom_histogram together you can create a histogram of the temp values. Try playing around with the bins variable to change the apperance of the histogram. What happens when you increase the bins value? What happens when it decreases?"
   ]
  },
  {
   "cell_type": "code",
   "execution_count": null,
   "metadata": {},
   "outputs": [],
   "source": [
    "ggplot(data=temp, mapping= aes(x=temp))+ geom_histogram(bins=2)"
   ]
  },
  {
   "cell_type": "markdown",
   "metadata": {},
   "source": [
    "The ggplot function also allows you to change the appearance of the histogram, for example changing the labels, adding a title and changing the colours."
   ]
  },
  {
   "cell_type": "code",
   "execution_count": null,
   "metadata": {},
   "outputs": [],
   "source": [
    "ggplot(data= temp, mapping = aes(x=temp,stat(density))) +\n",
    "  geom_histogram(binwidth = 2, col=\"black\",fill=\"red\") +\n",
    "  geom_vline(aes(xintercept = mean(temp)), color=\"blue\" , size = 1, linetype = \"dashed\") +\n",
    "  labs(title = \"Histogram Example\", x= \"Temperature\")\n"
   ]
  },
  {
   "cell_type": "markdown",
   "metadata": {
    "lines_to_next_cell": 0
   },
   "source": [
    "What if we wanted to compare the temperature values for each month:"
   ]
  },
  {
   "cell_type": "code",
   "execution_count": null,
   "metadata": {
    "lines_to_next_cell": 2
   },
   "outputs": [],
   "source": [
    "ggplot(data= temp, mapping = aes(x=temp)) +\n",
    "    geom_histogram(binwidth = 2, col=\"black\",fill=\"grey\") +\n",
    "  labs( x= \"Temperature\") + facet_wrap(~month)"
   ]
  },
  {
   "cell_type": "markdown",
   "metadata": {},
   "source": [
    "## Exercise\n",
    "\n",
    "Using the iris data set (the first 6 rows are shown below), try creating different visualizations of the data and numerical summaries."
   ]
  },
  {
   "cell_type": "code",
   "execution_count": null,
   "metadata": {},
   "outputs": [],
   "source": [
    "head(iris)"
   ]
  }
 ],
 "metadata": {
  "kernelspec": {
   "display_name": "R",
   "language": "R",
   "name": "ir"
  },
  "language_info": {
   "codemirror_mode": "r",
   "file_extension": ".r",
   "mimetype": "text/x-r-source",
   "name": "R",
   "pygments_lexer": "r",
   "version": "3.6.2"
  }
 },
 "nbformat": 4,
 "nbformat_minor": 4
}
