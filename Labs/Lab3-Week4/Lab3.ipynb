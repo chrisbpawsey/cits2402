{
  "cells": [
    {
      "metadata": {},
      "cell_type": "markdown",
      "source": "\n# Lab3 Outcomes\n\nIn this lab you should read through and run the code in this lab sheet and complete the lab assessment on either a lab computer or at home. The lab assessment can be found in LMS. Remember, that you only have 60 minutes to complete the assessment once you start it. \nRun the following lines of code first please, as they will ensure better graphics throughout this lab.\n"
    },
    {
      "metadata": {
        "trusted": true
      },
      "cell_type": "code",
      "source": "\nlibrary(repr)\n\n# Change plot size to 4 x 3\noptions(repr.plot.width=4, repr.plot.height=4, repr.plot.res = 120)",
      "execution_count": null,
      "outputs": []
    },
    {
      "metadata": {},
      "cell_type": "markdown",
      "source": "\n# Exercise 1: Larvae Data \n\nSo far we have mostly worked with small datasets and it was fairly easy to get an idea about the main features of variables by simply visually inspecting the entire dataset. However, for larger datasets this will become impossible to do. To still get an idea about what our data looks like, we can instead use what is called the \"summary statistics\", which amongst others generally includes measures of central tendency like mean and median. Those characteristics will give us an idea about our data without going through a long list of individual data points.  \nFor you to practice this firstly load the larvae dataset,**make sure that the csv file is located in the same folder as the .jypnb file you opened**.\n\n\nTo start, you firstly need to read in the larvae dataset. Like last week, the `head()` command will print the first 6 rows of observations of the larvae dataset. "
    },
    {
      "metadata": {
        "trusted": true
      },
      "cell_type": "code",
      "source": "larvae <- read.csv(\"larvae.csv\")\nhead(larvae)",
      "execution_count": null,
      "outputs": []
    },
    {
      "metadata": {},
      "cell_type": "markdown",
      "source": "\nThe larvae data contains 32 observations for 4 variables: ID, Insecticide, NumberLarvae and Group.\n\n*What do you think the ID variable represents?*\n\n*Can you identify the data type of each of the variables?*\n\n### Summary of Data\n\nNow, we will create a summary of each variable using the `summary()` command. The output should list the minimum, median, mean, maximum and interquartiles for each numerical variable. For each categorical variable it will list the number of observations in each group.\n"
    },
    {
      "metadata": {
        "trusted": true
      },
      "cell_type": "code",
      "source": "summary(larvae)",
      "execution_count": null,
      "outputs": []
    },
    {
      "metadata": {},
      "cell_type": "markdown",
      "source": "From the above summary try to answer the following questions: \n\n*What is the range of 'NumberLarvae'?*\n\n*What is the mean of 'Insecticide'?*\n\n*How many levels does 'Group' have?*\n\n*What is the upper quartile of 'ID'?*"
    },
    {
      "metadata": {},
      "cell_type": "markdown",
      "source": "### Boxplot\n\nThe summary statistics present a brief overview of some important characteristics of our variables. Another way to make large datasets more presentable are visualisations like the histogram, that we have already used in the previous labs. Another graphic tool that can be used is the boxplot, which you learned about in lecture. Today, we will learn how to create a boxplot in R. Run the code and discuss with your neighbour how the graph matches your summary statistics results."
    },
    {
      "metadata": {
        "trusted": true
      },
      "cell_type": "code",
      "source": "boxplot(larvae$Insecticide)",
      "execution_count": null,
      "outputs": []
    },
    {
      "metadata": {},
      "cell_type": "markdown",
      "source": "Using the `ggplot()` command from last week, we can also use a more sophisticated way of creating a boxplot."
    },
    {
      "metadata": {
        "trusted": true
      },
      "cell_type": "code",
      "source": "library(ggplot2)\nggplot(data = larvae, mapping = aes(y = Insecticide)) + geom_boxplot (width=1)\n  ",
      "execution_count": null,
      "outputs": []
    },
    {
      "metadata": {},
      "cell_type": "markdown",
      "source": "### Quantiles\n\nNow, let's talk about quantiles a little further. Quantiles are important constructs in statistics, which we will use later on during this semester when we dive into statistical testing. But first, let's familiarize with the meaning of a **p-quantile**. If you already feel confident enough, try to write down a formal definition of a p-quantile or explain it to your neighbour and answer the questions in your assessment. Otherwise, keep on reading. \n\nBasically the idea of a p-quantile is to split the **ascending list of obersvations**, such that p * 100% of the observations lie to the left of the quantile and (1-p)* 100% of the observations lie to the right of the quantile. We then call the value that splits the dataset in such a way a \"p-quantile\". For example, going back to your results above, 25% of the observations from the 'Insecticide' variable are smaller or equal to 1.525 and 75% of the observations from that dataset are bigger or equal to 1.525.\n\nThe `summary()` command yields the 0.25, the 0.5 and the 0.75 quantiles. Together, those qunatiles split the entire list of observations into 4 quarters, which is why they are also called **quartiles**. However, it is of course possible to also obtain other quantiles. R provides an easy command for this."
    },
    {
      "metadata": {
        "trusted": true
      },
      "cell_type": "code",
      "source": "quantile(larvae$NumberLarvae, probs = c(0.25, 0.5, 0.75))",
      "execution_count": null,
      "outputs": []
    },
    {
      "metadata": {},
      "cell_type": "markdown",
      "source": "Study this command and try to obtain other quantiles of your choice with it. \n\nLet us now go back to the boxplot one last time as R also provides a way to compare boxplots of multiple groups.\nTo do this, we can set the x variable to be `Group`, as shown below:  "
    },
    {
      "metadata": {
        "trusted": true
      },
      "cell_type": "code",
      "source": "ggplot(data = larvae, mapping = aes(x = Group, y = NumberLarvae)) + geom_boxplot()\n",
      "execution_count": null,
      "outputs": []
    },
    {
      "metadata": {},
      "cell_type": "markdown",
      "source": "Draw conclusions from the visual comparison of those two boxplots."
    },
    {
      "metadata": {},
      "cell_type": "markdown",
      "source": "# Exercise 2: Meadowfoam Data \n\nWe will now take a brief look at a different dataset, called \"meadowfoam\"."
    },
    {
      "metadata": {
        "trusted": true
      },
      "cell_type": "code",
      "source": "meadow <- read.csv(\"meadowfoam.csv\")\nhead(meadow)",
      "execution_count": null,
      "outputs": []
    },
    {
      "metadata": {},
      "cell_type": "markdown",
      "source": "Firstly, receive the summary statistics as learned in today's lab. What does this tell you about the 4 variables of the dataset?\n\nThe most often used measure of dispersion is the \"standard deviation\", which is not presented by the `summary()` command. Instead, try the `sd()` command or type `?sd` if you require help with it. \n\nAnother measure of dispersion is the \"Inter Quartile Range\" (IQR), which is the positive distance between the upper and lower quartile.\n\n\n*What is the Inter Quartile Range (IQR) of 'Flowers'?*\n\n*What is the variance of 'Intensity'?*\n\n\n"
    },
    {
      "metadata": {
        "trusted": true
      },
      "cell_type": "code",
      "source": "summary(meadow)\n(sd(meadow$Intensity))^2",
      "execution_count": null,
      "outputs": []
    },
    {
      "metadata": {},
      "cell_type": "markdown",
      "source": "### Scatterplot\n\n\n\nWe will now take a look at two more visualisations. Firstly, the scatterplot, which maps two numeric variables. The easiest way to obtain a basic scatterplots looks like this:"
    },
    {
      "metadata": {
        "scrolled": true,
        "trusted": true
      },
      "cell_type": "code",
      "source": "plot(meadow$Intensity,meadow$Flowers, main=\"Scatterplot\")",
      "execution_count": null,
      "outputs": []
    },
    {
      "metadata": {},
      "cell_type": "markdown",
      "source": "Again, the `ggplot()` command offers a more sophisticated way of plotting."
    },
    {
      "metadata": {
        "trusted": true
      },
      "cell_type": "code",
      "source": "ggplot(data= meadow, mapping = aes(x = Intensity, y = Flowers )) + geom_point()",
      "execution_count": null,
      "outputs": []
    },
    {
      "metadata": {},
      "cell_type": "markdown",
      "source": "What kind of relationship between the variables 'Intensity' and 'Flowers' can you observe from the graph?\n\nWhy are those two the only reasonable variables from the dataset to use in a scatterplot?\n\nWe can further use coloured points to distinguish between the two 'Time' groups by setting `col = Time`."
    },
    {
      "metadata": {
        "trusted": true
      },
      "cell_type": "code",
      "source": "ggplot(data= meadow, mapping = aes(x = Intensity, y = Flowers , col = Time)) + geom_point()",
      "execution_count": null,
      "outputs": []
    },
    {
      "metadata": {},
      "cell_type": "markdown",
      "source": "In R we can also create so called \"multiplots\". Use the `par()` command like shown beneath to do so. Use `?par` to read up on this command as well if you wish. Again, please run the code in the next line first to optimise visualisation."
    },
    {
      "metadata": {
        "trusted": true
      },
      "cell_type": "code",
      "source": "#resetting plot size\noptions(repr.plot.width=5, repr.plot.height=5,repr.plot.res = 120)",
      "execution_count": null,
      "outputs": []
    },
    {
      "metadata": {
        "trusted": true
      },
      "cell_type": "code",
      "source": "par(mfrow=c(2,2))\nhist(meadow$Flowers, main=\"Histogram of Flowers\")\nboxplot(meadow$Flowers, main=\"Boxplot of Flowers\")\nplot(meadow$Intensity,meadow$Flowers, main=\"Scatterplot Intensity and Flowers\")",
      "execution_count": null,
      "outputs": []
    },
    {
      "metadata": {},
      "cell_type": "markdown",
      "source": "For the visualisation of categorical variables, histograms, boxplots and scatterplots can obviously not be used. \nInstead, we can visualize the amount of observations for each level of such categorical variables via a so called \n\"barplot\". "
    },
    {
      "metadata": {
        "trusted": true
      },
      "cell_type": "code",
      "source": "counts <- table(meadow$Time)\nbarplot(counts, main=\"Time\") ",
      "execution_count": null,
      "outputs": []
    },
    {
      "metadata": {},
      "cell_type": "markdown",
      "source": "Your last task for today's lab is to create a multiplot, including the histogram and the boxplot of 'Intensity' \nas well as the scatterplot and the barplot from above."
    },
    {
      "metadata": {
        "trusted": true
      },
      "cell_type": "code",
      "source": "",
      "execution_count": null,
      "outputs": []
    },
    {
      "metadata": {
        "trusted": true
      },
      "cell_type": "code",
      "source": "",
      "execution_count": null,
      "outputs": []
    }
  ],
  "metadata": {
    "kernelspec": {
      "name": "r",
      "display_name": "R",
      "language": "R"
    },
    "language_info": {
      "mimetype": "text/x-r-source",
      "name": "R",
      "pygments_lexer": "r",
      "version": "3.5.3",
      "file_extension": ".r",
      "codemirror_mode": "r"
    }
  },
  "nbformat": 4,
  "nbformat_minor": 4
}