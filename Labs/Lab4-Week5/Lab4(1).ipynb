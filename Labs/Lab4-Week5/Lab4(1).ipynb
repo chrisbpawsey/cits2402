{
  "cells": [
    {
      "metadata": {},
      "cell_type": "markdown",
      "source": "# Lab4 Outcomes\n\n\nIn this lab you should read through and run the code in this lab sheet and complete the lab assessment. The lab assessment can be found in LMS. Remember, that you only have 60 minutes to complete the assessment once you start it. \nBy the end of this week's lab you should be able to use R to:\n\n\n* transform data \n* standardize and compare data\n* Find the correlation coefficient of two numeric variables and interpret it\n\n\nRun the following code below first to load the necessary packages for this lab: "
    },
    {
      "metadata": {
        "trusted": true
      },
      "cell_type": "code",
      "source": "library(ggplot2)  # loading the ggplot2 package\nlibrary(repr)     # loading the repr package\n\n# Change plot size for all following plots \noptions(repr.plot.width=4, repr.plot.height=4, repr.plot.res = 120)\n",
      "execution_count": null,
      "outputs": []
    },
    {
      "metadata": {},
      "cell_type": "markdown",
      "source": "# Exercise 1: Data Transformation\n\n"
    },
    {
      "metadata": {},
      "cell_type": "markdown",
      "source": "Today we will take a look into some common ways of transforming data without worrying about the reasons too much yet.\nFirst, load the Larvae dataset from last week's lab. Make sure that the \"larvae.csv\" file is located in the same directory as this \"lab4.jpynb\" file. \n\nIn the code cell below you also see some comments on what the different commands do. Remember that comments (starting with `#`) are ignored when the code is executed.\n\n"
    },
    {
      "metadata": {
        "trusted": true
      },
      "cell_type": "code",
      "source": "larvae <- read.csv(\"larvae.csv\")     # saving the data in the variable 'larvae'\nhead(larvae)                         # printing the first six rows of the larvae data\nsummary(larvae)                      # printing the summary of the larvae data",
      "execution_count": null,
      "outputs": []
    },
    {
      "metadata": {},
      "cell_type": "markdown",
      "source": "This dataset records data of an experiment testing the effect of different intensities of a certain insecticide (a/b) on larvae. For now, we will focus on the 'NumberLarvae' variable, which records the number of dead larvae.\n\nVia simple subtraction we can center the data or **mean-center** it if we choose to subtract the mean from every datapoint. Run the following lines of code to do so. \n\n"
    },
    {
      "metadata": {
        "trusted": true
      },
      "cell_type": "code",
      "source": "number_dead <- larvae[,3]\nmean <- mean(number_dead)\nnumber_dead_centered <- number_dead - mean\n\nnumber_dead\nround(number_dead_centered, 2)",
      "execution_count": null,
      "outputs": []
    },
    {
      "metadata": {},
      "cell_type": "markdown",
      "source": "* What is the mean (of the transformed data set) now?\n* How would you interpret negative/positive datapoints in this context?"
    },
    {
      "metadata": {},
      "cell_type": "markdown",
      "source": "Via multiplication, we can also scale our data. If we choose to multiply with values smaller than 1, we hence shrink the data down, while we inflate it if we multiply with values larger than 1. The three boxplots below visualise this."
    },
    {
      "metadata": {
        "trusted": true
      },
      "cell_type": "code",
      "source": "b1 <- number_dead\nb2 <- 0.5 * number_dead\nb3 <- 3 * number_dead\n\npar(mfrow=c(1,3))\nboxplot(b1)\nboxplot(b2)\nboxplot(b3)\n",
      "execution_count": null,
      "outputs": []
    },
    {
      "metadata": {},
      "cell_type": "markdown",
      "source": "(Mean-) centering and scaling are so-called linear transformations. In the lecture you have also learned about log-transformation. For the purpose of your assessement, try to think about possible reasons why linear- or log-transforamtion could be helpful for analysing data. Try also to think about how linear transformation will affect the descriptive values from the summary statistics.\n\nFor instance, how would a linear transformation on the 'NumberLarvae' data via multiplication by 3 and then subtracting 7 from every datapoint affect the summary statistics. You can use the code cells below for calcualtions.  "
    },
    {
      "metadata": {
        "trusted": true
      },
      "cell_type": "code",
      "source": "x <- number_dead \ny <- 3 * number_dead - 7",
      "execution_count": null,
      "outputs": []
    },
    {
      "metadata": {},
      "cell_type": "markdown",
      "source": "# Exercise 2: Standardisation\n\nOne of the many applications of transforming data is when we standardise data. This is equivalent to mean-centering and scaling the data with the inverse of its standard deviation. The resulting data can then be expressed as a deviation from the mean in multiples of the standard deviation. If for instance any given datapoint is equal to 3.5 after standardisation, we interpret this datapoint to be 3.5 standard deviations above the mean of the corresponding dataset. \n\nThe standardisation helps to make data from different populations comparable.\n\nThe following dataset contains imaginary information on mathematics and physics students. Each of which achieved a mark (out of 100) by the end of the year. "
    },
    {
      "metadata": {
        "trusted": true
      },
      "cell_type": "code",
      "source": "Marks <- read.csv(\"Marks.csv\")\nhead(Marks)",
      "execution_count": null,
      "outputs": []
    },
    {
      "metadata": {},
      "cell_type": "markdown",
      "source": "Retrieve the summary statistics for both groups (Maths and Physics) **separately** first. You can do so by using the `summary()` command and **completing** the code below. \n\nIf you have trouble to separate the groups, take a look at Lecture 8 or talk to the friendly facilitators.\n\n\n"
    },
    {
      "metadata": {
        "trusted": true
      },
      "cell_type": "code",
      "source": "by ... Marks$Mark ... summary",
      "execution_count": null,
      "outputs": []
    },
    {
      "metadata": {},
      "cell_type": "markdown",
      "source": "We will now try to compare the best maths' student to the best physics' student. \n\n* From the absolute scores, which of the two appears to be more dominant in his/ her respective field of study? * \n\nIf we now take the results of the other students into account and therefore use the standardised values instead, which of the two appears to be the more dominant student compared to his/her peers? Use the empty cells below for any kind of calculations you want to perform. Hint: The `min()`, `max()`, `mean()` and `sd()` functions might prove helpful. \nYou could also try to use the `scale()` command instead to speed things up. If you are not familiar with it, make sure you read up on it first via `?scale()`.\nNo matter which method you prefer, but **standardising the data will be necessary to perform this task**."
    },
    {
      "metadata": {
        "trusted": true
      },
      "cell_type": "code",
      "source": "",
      "execution_count": null,
      "outputs": []
    },
    {
      "metadata": {},
      "cell_type": "markdown",
      "source": "# Exercise 3: Correlation\n\nFor this exercise we will be using the Larvae dataset again.\n\n\nIf you haven't already done so, read in the Larvae dataset. We are interested in the association of the two numeric variables:\n\n* NumberLarvae: This variable records the number of dead larvae\n* Insecticide: This variable records different intensities of insecticide treatments (measured in milliliters per liter) \n"
    },
    {
      "metadata": {
        "trusted": true
      },
      "cell_type": "code",
      "source": "head(larvae)",
      "execution_count": null,
      "outputs": []
    },
    {
      "metadata": {},
      "cell_type": "markdown",
      "source": "In this question, we are interested in how the intensity of the insecticide and the number of dead larvae relate to one another. Below, we have created a scatter plot with Insecticide on the x-axis and NumberLarvae on the y-axis. "
    },
    {
      "metadata": {
        "trusted": true
      },
      "cell_type": "code",
      "source": "ggplot(larvae, aes(x = Insecticide, y = NumberLarvae)) + geom_point()",
      "execution_count": null,
      "outputs": []
    },
    {
      "metadata": {},
      "cell_type": "markdown",
      "source": "What do you notice about the relationship between the two variables? \n\n*Do you think it is a linear or non-linear relationship?* \n\n*Does the association between the two variables have a positive or negative direction?* \n\n*Do you think it is a strong or a weak relationship?*\n\n*Do you notice the different levels of spread for 'NumberLarvae' depending on the insecticide intensity?*\n\nDiscuss with your neighbour.\n"
    },
    {
      "metadata": {},
      "cell_type": "markdown",
      "source": "In the lectures, you will have discussed the correlation coefficient. Some important notes from the lecture were: \n\n* Correlation is only a measure of **linear association**.\n* It does not tell us about non-linear associations.\n* It does not indicate a cause and effect relationship.\n\n\nTo calculate the correlation between 'Insecticide' and 'NumberLarvae' we can use the `cor()` function in R, as seen below. Does the correlation value match your findings from the scatterplot?"
    },
    {
      "metadata": {
        "trusted": true
      },
      "cell_type": "code",
      "source": "cor(x= , y= )",
      "execution_count": null,
      "outputs": []
    },
    {
      "metadata": {},
      "cell_type": "markdown",
      "source": "In this week's lectures you have learned about the general idea of linear regression. How does the so far conducted correlation analysis fit into this idea? Which variable would you choose to be the dependent/ independent variable and why? Do you think a linear regression analysis would be an appropriate approach to further investigate the relationship at hand?"
    },
    {
      "metadata": {},
      "cell_type": "markdown",
      "source": "# Exercise 4: Outliers and Data Manipulation\n\nIn your LMS you will find a .csv file named 'galaxy'. First, create a variable called 'galaxy', which contains the dataset. \n"
    },
    {
      "metadata": {
        "trusted": true
      },
      "cell_type": "code",
      "source": "galaxy <- \n",
      "execution_count": null,
      "outputs": []
    },
    {
      "metadata": {},
      "cell_type": "markdown",
      "source": "In this dataset we find two numeric variables. The variable 'Velocity' corresponds to the recessional velocity (measured in km per second) of a galaxy moving away from earth. The variable 'Distance' corresponds to the distance of that galaxy from earth.\n\nUse boxplots to visually scan both variables for outliers."
    },
    {
      "metadata": {
        "trusted": true
      },
      "cell_type": "code",
      "source": "#resetting plot size\noptions(repr.plot.width=5, repr.plot.height=4,repr.plot.res = 120)\n\n\npar(mfrow=c(1,2))\nboxplot(galaxy$Velocity)\nboxplot(galaxy$Distance)",
      "execution_count": null,
      "outputs": []
    },
    {
      "metadata": {},
      "cell_type": "markdown",
      "source": "Derive the summary statistics via `summary()` and decide which of the descriptive values may be flawed because of the outliers that you have detected. \n\nThere appears to be one outlier regarding the 'Velocity' and two outliers regarding the 'Distance' variable. \nFor some analytical methods it is a problem that our data is flawed like that, so this might have to be addressed. However, there isn't one way how to \"treat\" outliers but treatment can be performed in different ways depending on the nature of the outlier at question. \n\nThe most drastic approach of course is to delete the dataset altogether if we render the information useless based on its unknown extreme behaviour. However, sometimes outliers result from obvious typing errors and can easily be manually corrected for instance. You should also bear in mind that outliers do not always result from errors, but may instead indeed be valid, yet extreme, observations for which we have no reason to treat or even remove them.\n\n*For the outliers observed above, think about their nature and how you might treat them best.*"
    },
    {
      "metadata": {},
      "cell_type": "markdown",
      "source": "This new dataset contains the original data that is not flawed anymore. "
    },
    {
      "metadata": {
        "trusted": true
      },
      "cell_type": "code",
      "source": "galaxy_new <- read.csv(\"galaxy_new.csv\")",
      "execution_count": null,
      "outputs": []
    },
    {
      "metadata": {
        "trusted": true
      },
      "cell_type": "code",
      "source": "par(mfrow=c(1,2))\nboxplot(galaxy_new$Velocity)\nboxplot(galaxy_new$Distance)",
      "execution_count": null,
      "outputs": []
    },
    {
      "metadata": {},
      "cell_type": "markdown",
      "source": "Calculate the correlation coefficient of 'Velocity' and 'Distance'. Use the empty code cell below to do so."
    },
    {
      "metadata": {
        "trusted": true
      },
      "cell_type": "code",
      "source": "",
      "execution_count": null,
      "outputs": []
    },
    {
      "metadata": {},
      "cell_type": "markdown",
      "source": "How would you interpret these findings? \n\nPresent a scatterplot to visualize the association. "
    },
    {
      "metadata": {},
      "cell_type": "markdown",
      "source": "You are now all set to sit this week's assessment. Remember to round all your answers to 3 decimal places. Good luck!"
    },
    {
      "metadata": {
        "trusted": true
      },
      "cell_type": "code",
      "source": "",
      "execution_count": null,
      "outputs": []
    }
  ],
  "metadata": {
    "kernelspec": {
      "name": "r",
      "display_name": "R",
      "language": "R"
    },
    "language_info": {
      "mimetype": "text/x-r-source",
      "name": "R",
      "pygments_lexer": "r",
      "version": "3.5.3",
      "file_extension": ".r",
      "codemirror_mode": "r"
    }
  },
  "nbformat": 4,
  "nbformat_minor": 4
}